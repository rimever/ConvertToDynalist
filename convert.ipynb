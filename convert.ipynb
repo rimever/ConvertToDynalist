{
 "cells": [
  {
   "cell_type": "code",
   "execution_count": null,
   "outputs": [],
   "source": [
    "import re\n",
    "\n",
    "stack = \"\"\n",
    "isSkip = False\n",
    "with open('./data.txt') as f:\n",
    "    line = f.readline()\n",
    "    while line:\n",
    "        if len(line.rstrip(\"\\n\")) == 0:\n",
    "            if isSkip:\n",
    "                isSkip = False\n",
    "            else :\n",
    "                print(stack)\n",
    "                stack = \"\"\n",
    "        else:\n",
    "            pattern = '^#+'\n",
    "            if re.match(pattern, line) :\n",
    "                line = re.sub(pattern, '', line, 1).lstrip()\n",
    "                isSkip = True\n",
    "            if len(stack) > 0:\n",
    "                stack += \"\\t\" + line\n",
    "            else:\n",
    "                stack += line\n",
    "        line = f.readline()\n",
    "\n",
    "\n",
    "print(stack)"
   ],
   "metadata": {
    "collapsed": false,
    "pycharm": {
     "name": "#%%\n"
    }
   }
  },
  {
   "cell_type": "code",
   "execution_count": null,
   "outputs": [],
   "source": [
    "with open('./data.txt') as f:\n",
    "    line = f.readline()\n",
    "    while line:\n",
    "        print(line.rstrip(\"\\n\"))\n",
    "        line = f.readline()"
   ],
   "metadata": {
    "collapsed": false,
    "pycharm": {
     "name": "#%%\n"
    }
   }
  },
  {
   "cell_type": "code",
   "execution_count": 11,
   "metadata": {
    "pycharm": {
     "name": "#%%\n"
    }
   },
   "outputs": [
    {
     "name": "stdout",
     "output_type": "stream",
     "text": [
      "フルーツ\n",
      "りんご\n",
      "みかん\n",
      "ぶどう\n",
      "\n",
      "プログラム\n",
      "\n",
      "# サッカー\n",
      "\n",
      "ユベントス\n",
      "バルセロナ\n"
     ]
    }
   ],
   "source": [
    "with open('./data.txt') as f:\n",
    "    line = f.readline()\n",
    "    while line:\n",
    "        print(line.rstrip(\"\\n\"))\n",
    "        line = f.readline()"
   ]
  },
  {
   "cell_type": "code",
   "execution_count": null,
   "metadata": {},
   "outputs": [],
   "source": []
  }
 ],
 "metadata": {
  "kernelspec": {
   "display_name": "Python 3",
   "language": "python",
   "name": "python3"
  },
  "language_info": {
   "codemirror_mode": {
    "name": "ipython",
    "version": 3
   },
   "file_extension": ".py",
   "mimetype": "text/x-python",
   "name": "python",
   "nbconvert_exporter": "python",
   "pygments_lexer": "ipython3",
   "version": "3.6.5"
  }
 },
 "nbformat": 4,
 "nbformat_minor": 1
}